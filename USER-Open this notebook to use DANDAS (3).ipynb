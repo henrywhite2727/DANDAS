{
 "cells": [
  {
   "cell_type": "code",
   "execution_count": null,
   "id": "2b22c102",
   "metadata": {},
   "outputs": [],
   "source": [
    "from DANDAS_mainSoftware import DANDAS\n",
    "import numpy as np"
   ]
  },
  {
   "cell_type": "markdown",
   "id": "7270c7e9",
   "metadata": {},
   "source": [
    "### Use the following cell to call DANDAS"
   ]
  },
  {
   "cell_type": "code",
   "execution_count": null,
   "id": "29721168",
   "metadata": {
    "scrolled": true
   },
   "outputs": [],
   "source": [
    "#Edit DANDAS's input parameters to your liking (full info on how inputs should be used is included in README.md)\n",
    "test=DANDAS('NFW','Majorana','Full_Plot',reduce_runtime=False,data=False,m_x=1)"
   ]
  },
  {
   "cell_type": "markdown",
   "id": "cbac37c8",
   "metadata": {},
   "source": [
    "### Examples of Different Ways to Apply DANDAS"
   ]
  },
  {
   "cell_type": "code",
   "execution_count": null,
   "id": "f36ca33f",
   "metadata": {},
   "outputs": [],
   "source": [
    "#Assuming an Einasto DM halo profile (without custom parameters), and dark matter is a Majorana particle,DANDAS will output \n",
    "#2 full plots (one for annihilation cross section (ACR) as a function of DM particle mass and one for lifetime) and the \n",
    "#bounds on ACR and lifetime will be stored in the test variable\n",
    "\n",
    "test=DANDAS('Einasto','Majorana','Full_Plot',reduce_runtime=False,data=True,m_x=1)"
   ]
  },
  {
   "cell_type": "code",
   "execution_count": null,
   "id": "7694b040",
   "metadata": {},
   "outputs": [],
   "source": [
    "#Same conditions as above except now a zoomed in version of the plot is desired over a specified region and mass is given as an array\n",
    "\n",
    "DM_mass_array=np.linspace(1e3,1e5,5)\n",
    "\n",
    "dec_bounds=np.array([1e3,1e5,1e23,1e30])\n",
    "ann_bounds=np.array([1e3,1e5,1e-25,1e-21])\n",
    "\n",
    "test=DANDAS('Einasto','Majorana','Custom_plot',reduce_runtime=False,data=True,m_x=DM_mass_array, plot_axes_ann=ann_bounds,plot_axes_dec=dec_bounds)\n",
    "\n",
    "for i in range(len(DM_mass_array)):\n",
    "    print('For a DM particle with mass =',DM_mass_array[i],'GeV:')\n",
    "    print('The upper bound on DM annihilation cross section is',test[0,0,i],'cm^3/s.')\n",
    "    print('The lower bound on DM lifetime is t=',test[1,0,i],'seconds.')"
   ]
  },
  {
   "cell_type": "code",
   "execution_count": null,
   "id": "5e5d5e90",
   "metadata": {},
   "outputs": [],
   "source": [
    "#Assuming a NFW halo profile with custom parameters (assuming a DM is Majorana and outputting two full plots)\n",
    "test=DANDAS('NFW Custom','Majorana','Full_Plot',reduce_runtime=True,data=False,r_halo=200*3.0857e21,r0 =  8.127 * 3.0857e21,rs = 20 * 3.0857e21, rho_0 = 0.4 , gamma=1.26 )\n",
    "\n",
    "#NOTE: factor of 3.0857e21 is used to convert kiloparsec to cm"
   ]
  },
  {
   "cell_type": "code",
   "execution_count": null,
   "id": "c5bdc29d",
   "metadata": {},
   "outputs": [],
   "source": [
    "#Using a custom density function to model DM density (equation for Burkert Halo profile in this case)\n",
    "\n",
    "#Equation 2 in https://arxiv.org/pdf/astro-ph/9504041.pdf\n",
    "def Burkert_HaloProfile(r):\n",
    "    r0 =  8.127 * 3.0857e21 #cm\n",
    "    rho0 = 0.4             #GeV cm^-3\n",
    "    numerator= rho0*r0**3\n",
    "    denominator=(r+r0)*(r**2+r0**2)\n",
    "    rho_DM= numerator/denominator\n",
    "    return rho_DM\n",
    "\n",
    "test=DANDAS('Custom Density Function','Majorana','Full_Plot',reduce_runtime=True,data=False, rho_function=Burkert_HaloProfile)"
   ]
  },
  {
   "cell_type": "code",
   "execution_count": null,
   "id": "a94eac7c",
   "metadata": {},
   "outputs": [],
   "source": []
  }
 ],
 "metadata": {
  "kernelspec": {
   "display_name": "Python 3 (ipykernel)",
   "language": "python",
   "name": "python3"
  },
  "language_info": {
   "codemirror_mode": {
    "name": "ipython",
    "version": 3
   },
   "file_extension": ".py",
   "mimetype": "text/x-python",
   "name": "python",
   "nbconvert_exporter": "python",
   "pygments_lexer": "ipython3",
   "version": "3.9.7"
  }
 },
 "nbformat": 4,
 "nbformat_minor": 5
}
