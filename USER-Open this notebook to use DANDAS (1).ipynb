{
 "cells": [
  {
   "cell_type": "code",
   "execution_count": 4,
   "id": "0c3f8f2b",
   "metadata": {},
   "outputs": [],
   "source": [
    "from DANDAS_mainSoftware import DANDAS\n",
    "import numpy as np"
   ]
  },
  {
   "cell_type": "markdown",
   "id": "b887c695",
   "metadata": {},
   "source": [
    "### Use the following cell to call DANDAS"
   ]
  },
  {
   "cell_type": "code",
   "execution_count": null,
   "id": "ca81f3a0",
   "metadata": {},
   "outputs": [],
   "source": [
    "#Edit DANDAS's input parameters to your liking (full info on how inputs should be used is included in README.md)\n",
    "test=DANDAS('NFW','Majorana','Full_Plot',True,m_x=1)"
   ]
  },
  {
   "cell_type": "markdown",
   "id": "0016039e",
   "metadata": {},
   "source": [
    "### Examples of Different Ways to Apply DANDAS"
   ]
  },
  {
   "cell_type": "code",
   "execution_count": null,
   "id": "f6249162",
   "metadata": {},
   "outputs": [],
   "source": [
    "#Assuming an Einasto DM halo profile (without custom parameters), and dark matter is a Majorana particle,DANDAS will output \n",
    "#2 full plots (one for annihilation cross section (ACR) as a function of DM particle mass and one for lifetime) and the \n",
    "#bounds on ACR and lifetime will be stored in the test variable\n",
    "\n",
    "\n"
   ]
  },
  {
   "cell_type": "code",
   "execution_count": 5,
   "id": "bfebcbed",
   "metadata": {},
   "outputs": [
    {
     "ename": "UnboundLocalError",
     "evalue": "local variable 'scaling_factor_J' referenced before assignment",
     "output_type": "error",
     "traceback": [
      "\u001b[0;31m---------------------------------------------------------------------------\u001b[0m",
      "\u001b[0;31mUnboundLocalError\u001b[0m                         Traceback (most recent call last)",
      "\u001b[0;32m/tmp/ipykernel_381/2976056074.py\u001b[0m in \u001b[0;36m<module>\u001b[0;34m\u001b[0m\n\u001b[1;32m      4\u001b[0m \u001b[0mann_bounds\u001b[0m\u001b[0;34m=\u001b[0m\u001b[0mnp\u001b[0m\u001b[0;34m.\u001b[0m\u001b[0marray\u001b[0m\u001b[0;34m(\u001b[0m\u001b[0;34m[\u001b[0m\u001b[0;36m1e3\u001b[0m\u001b[0;34m,\u001b[0m\u001b[0;36m1e5\u001b[0m\u001b[0;34m,\u001b[0m\u001b[0;36m1e-25\u001b[0m\u001b[0;34m,\u001b[0m\u001b[0;36m1e-21\u001b[0m\u001b[0;34m]\u001b[0m\u001b[0;34m)\u001b[0m\u001b[0;34m\u001b[0m\u001b[0;34m\u001b[0m\u001b[0m\n\u001b[1;32m      5\u001b[0m \u001b[0;34m\u001b[0m\u001b[0m\n\u001b[0;32m----> 6\u001b[0;31m \u001b[0mtest\u001b[0m\u001b[0;34m=\u001b[0m\u001b[0mDANDAS\u001b[0m\u001b[0;34m(\u001b[0m\u001b[0;34m'Einasto'\u001b[0m\u001b[0;34m,\u001b[0m\u001b[0;34m'Majorana'\u001b[0m\u001b[0;34m,\u001b[0m\u001b[0;34m'Custom_plot'\u001b[0m\u001b[0;34m,\u001b[0m\u001b[0;32mTrue\u001b[0m\u001b[0;34m,\u001b[0m\u001b[0mm_x\u001b[0m\u001b[0;34m=\u001b[0m\u001b[0;36m1\u001b[0m\u001b[0;34m,\u001b[0m \u001b[0mplot_axes_ann\u001b[0m\u001b[0;34m=\u001b[0m\u001b[0mann_bounds\u001b[0m\u001b[0;34m,\u001b[0m\u001b[0mplot_axes_dec\u001b[0m\u001b[0;34m=\u001b[0m\u001b[0mdec_bounds\u001b[0m\u001b[0;34m)\u001b[0m\u001b[0;34m\u001b[0m\u001b[0;34m\u001b[0m\u001b[0m\n\u001b[0m\u001b[1;32m      7\u001b[0m \u001b[0;34m\u001b[0m\u001b[0m\n\u001b[1;32m      8\u001b[0m \u001b[0mprint\u001b[0m\u001b[0;34m(\u001b[0m\u001b[0;34m'For a DM particle with mass = 1 GeV'\u001b[0m\u001b[0;34m)\u001b[0m\u001b[0;34m\u001b[0m\u001b[0;34m\u001b[0m\u001b[0m\n",
      "\u001b[0;32m~/DANDAS_test/Test-March16/DANDAS/DANDAS-main/DANDAS_mainSoftware.py\u001b[0m in \u001b[0;36mDANDAS\u001b[0;34m(Halo_Profile, Antiparticle_Nature, plot_preference, data, **kwargs)\u001b[0m\n\u001b[1;32m    281\u001b[0m \u001b[0;34m\u001b[0m\u001b[0m\n\u001b[1;32m    282\u001b[0m         \u001b[0mD_allsky\u001b[0m\u001b[0;34m=\u001b[0m\u001b[0;36m2.7236e+23\u001b[0m\u001b[0;34m*\u001b[0m\u001b[0mscaling_factor\u001b[0m\u001b[0;34m\u001b[0m\u001b[0;34m\u001b[0m\u001b[0m\n\u001b[0;32m--> 283\u001b[0;31m         \u001b[0mJ_allsky\u001b[0m\u001b[0;34m=\u001b[0m\u001b[0;36m2.22e23\u001b[0m\u001b[0;34m*\u001b[0m\u001b[0mscaling_factor_J\u001b[0m\u001b[0;34m\u001b[0m\u001b[0;34m\u001b[0m\u001b[0m\n\u001b[0m\u001b[1;32m    284\u001b[0m \u001b[0;34m\u001b[0m\u001b[0m\n\u001b[1;32m    285\u001b[0m         \u001b[0mD_anita\u001b[0m\u001b[0;34m=\u001b[0m\u001b[0;36m5.431e+21\u001b[0m\u001b[0;34m*\u001b[0m\u001b[0mscaling_factor\u001b[0m\u001b[0;34m\u001b[0m\u001b[0;34m\u001b[0m\u001b[0m\n",
      "\u001b[0;31mUnboundLocalError\u001b[0m: local variable 'scaling_factor_J' referenced before assignment"
     ]
    }
   ],
   "source": [
    "#Same conditions as above except now a zoomed in version of the plot is desired over a specified region.\n",
    "\n",
    "dec_bounds=np.array([1e3,1e5,1e23,1e30])\n",
    "ann_bounds=np.array([1e3,1e5,1e-25,1e-21])\n",
    "\n",
    "test=DANDAS('Einasto','Majorana','Custom_plot',True,m_x=1, plot_axes_ann=ann_bounds,plot_axes_dec=dec_bounds)\n",
    "\n",
    "print('For a DM particle with mass = 1 GeV')\n",
    "print('The upper bound on DM annihilation cross section is',test[0],'cm^3/s.')\n",
    "print('The lower bound on DM lifetime is t=',test[1],'seconds.')"
   ]
  },
  {
   "cell_type": "code",
   "execution_count": null,
   "id": "25a9586c",
   "metadata": {},
   "outputs": [],
   "source": []
  }
 ],
 "metadata": {
  "kernelspec": {
   "display_name": "Python 3 (ipykernel)",
   "language": "python",
   "name": "python3"
  },
  "language_info": {
   "codemirror_mode": {
    "name": "ipython",
    "version": 3
   },
   "file_extension": ".py",
   "mimetype": "text/x-python",
   "name": "python",
   "nbconvert_exporter": "python",
   "pygments_lexer": "ipython3",
   "version": "3.9.7"
  }
 },
 "nbformat": 4,
 "nbformat_minor": 5
}
